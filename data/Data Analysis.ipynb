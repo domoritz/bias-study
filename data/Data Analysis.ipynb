{
 "cells": [
  {
   "cell_type": "code",
   "execution_count": 2,
   "metadata": {},
   "outputs": [],
   "source": [
    "import pandas as pd\n",
    "import numpy as np\n",
    "import matplotlib.pyplot as plt\n",
    "import matplotlib\n",
    "import seaborn as sns\n",
    "from scipy.stats import sigmaclip\n",
    "from scipy import stats\n",
    "\n",
    "%matplotlib inline\n",
    "%config InlineBackend.figure_format = 'retina'"
   ]
  },
  {
   "cell_type": "code",
   "execution_count": 3,
   "metadata": {},
   "outputs": [
    {
     "data": {
      "text/plain": [
       "['batch',\n",
       " 'id',\n",
       " 'userAgent',\n",
       " 'OS',\n",
       " 'Browser',\n",
       " 'isMobile',\n",
       " 'studyCondition',\n",
       " 'firstCondition',\n",
       " 'seqAirline',\n",
       " 'errorStates',\n",
       " 'seqStates',\n",
       " 'focusState',\n",
       " 'focusAirline',\n",
       " 'secondCondition',\n",
       " 'errorAirline',\n",
       " 'approx_airline_howManyCompare_0_answer',\n",
       " 'approx_airline_howManyCompare_0_data',\n",
       " 'approx_airline_howManyCompare_0_approx',\n",
       " 'approx_airline_howManyCompare_0_confidence',\n",
       " 'approx_airline_howMany_answer',\n",
       " 'approx_airline_howMany_approx',\n",
       " 'approx_airline_howMany_confidence',\n",
       " 'approx_airline_howManyCompare_1_answer',\n",
       " 'approx_airline_howManyCompare_1_data',\n",
       " 'approx_airline_howManyCompare_1_approx',\n",
       " 'approx_airline_howManyCompare_1_confidence',\n",
       " 'approx_states_howManyCompare_0_answer',\n",
       " 'approx_states_howManyCompare_0_data',\n",
       " 'approx_states_howManyCompare_0_approx',\n",
       " 'approx_states_howManyCompare_0_confidence',\n",
       " 'approx_states_howMany_answer',\n",
       " 'approx_states_howMany_approx',\n",
       " 'approx_states_howMany_confidence',\n",
       " 'approx_states_howManyCompare_1_answer',\n",
       " 'approx_states_howManyCompare_1_data',\n",
       " 'approx_states_howManyCompare_1_approx',\n",
       " 'approx_states_howManyCompare_1_confidence',\n",
       " 'precise_airline_didYouNotice_answer',\n",
       " 'precise_airline_didYouNotice_true',\n",
       " 'precise_airline_didYouNotice_confidence',\n",
       " 'precise_airline_howManyCompare_0_answer',\n",
       " 'precise_airline_howManyCompare_0_data',\n",
       " 'precise_airline_howManyCompare_0_approx',\n",
       " 'precise_airline_howManyCompare_0_precise',\n",
       " 'precise_airline_howManyCompare_0_confidence',\n",
       " 'precise_airline_howMany_answer',\n",
       " 'precise_airline_howMany_approx',\n",
       " 'precise_airline_howMany_precise',\n",
       " 'precise_airline_howMany_confidence',\n",
       " 'precise_airline_SelectAll_confidence',\n",
       " 'precise_airline_SelectAll_answer',\n",
       " 'precise_airline_SelectAll_approx',\n",
       " 'precise_airline_SelectAll_precise',\n",
       " 'precise_airline_SelectAll_jaccard_answer_precise',\n",
       " 'precise_airline_SelectAll_jaccard_approx_precise',\n",
       " 'precise_airline_SelectAll_jaccard_approx_answer',\n",
       " 'precise_airline_howManyCompare_1_answer',\n",
       " 'precise_airline_howManyCompare_1_data',\n",
       " 'precise_airline_howManyCompare_1_approx',\n",
       " 'precise_airline_howManyCompare_1_precise',\n",
       " 'precise_airline_howManyCompare_1_confidence',\n",
       " 'precise_airline_howManyCompare_2_answer',\n",
       " 'precise_airline_howManyCompare_2_data',\n",
       " 'precise_airline_howManyCompare_2_approx',\n",
       " 'precise_airline_howManyCompare_2_precise',\n",
       " 'precise_airline_howManyCompare_2_confidence',\n",
       " 'precise_states_didYouNotice_answer',\n",
       " 'precise_states_didYouNotice_true',\n",
       " 'precise_states_didYouNotice_confidence',\n",
       " 'precise_states_howMany_answer',\n",
       " 'precise_states_howMany_approx',\n",
       " 'precise_states_howMany_precise',\n",
       " 'precise_states_howMany_confidence',\n",
       " 'precise_states_howManyCompare_0_answer',\n",
       " 'precise_states_howManyCompare_0_data',\n",
       " 'precise_states_howManyCompare_0_approx',\n",
       " 'precise_states_howManyCompare_0_precise',\n",
       " 'precise_states_howManyCompare_0_confidence',\n",
       " 'precise_states_howManyCompare_1_answer',\n",
       " 'precise_states_howManyCompare_1_data',\n",
       " 'precise_states_howManyCompare_1_approx',\n",
       " 'precise_states_howManyCompare_1_precise',\n",
       " 'precise_states_howManyCompare_1_confidence',\n",
       " 'precise_states_howManyCompare_2_answer',\n",
       " 'precise_states_howManyCompare_2_data',\n",
       " 'precise_states_howManyCompare_2_approx',\n",
       " 'precise_states_howManyCompare_2_precise',\n",
       " 'precise_states_howManyCompare_2_confidence',\n",
       " 'precise_states_SelectAll_confidence',\n",
       " 'precise_states_SelectAll_answer',\n",
       " 'precise_states_SelectAll_approx',\n",
       " 'precise_states_SelectAll_precise',\n",
       " 'precise_states_SelectAll_jaccard_answer_precise',\n",
       " 'precise_states_SelectAll_jaccard_approx_precise',\n",
       " 'precise_states_SelectAll_jaccard_approx_answer',\n",
       " 'timing_approximate_questions_first_html',\n",
       " 'timing_approximate_second_html',\n",
       " 'timing_precise_questions_html',\n",
       " 'timing_approximate_questions_second_html',\n",
       " 'timing_precise_instructions_html',\n",
       " 'timing_demographics_html',\n",
       " 'timing_precise_first_html',\n",
       " 'timing_approximate_first_html',\n",
       " 'timing_instructions_html',\n",
       " 'timing_index_html',\n",
       " 'timing_precise_second_html',\n",
       " 'timing_thanks_html',\n",
       " 'demographics_problems',\n",
       " 'demographics_troubles',\n",
       " 'demographics_improved',\n",
       " 'demographics_gender',\n",
       " 'demographics_age',\n",
       " 'demographics_familiar',\n",
       " 'demographics_cheat']"
      ]
     },
     "execution_count": 3,
     "metadata": {},
     "output_type": "execute_result"
    }
   ],
   "source": [
    "full_data = pd.read_csv('cleaned_data.csv')\n",
    "list(full_data.columns)"
   ]
  },
  {
   "cell_type": "code",
   "execution_count": 4,
   "metadata": {},
   "outputs": [
    {
     "data": {
      "text/plain": [
       "39"
      ]
     },
     "execution_count": 4,
     "metadata": {},
     "output_type": "execute_result"
    }
   ],
   "source": [
    "results = [\"87912012\", \"30619584\", \"51665387\", \"25917069\", \"50263296\", \"60755967\", \"2893057\", \"28653725\", \"76648162\", \"21045111\", \"72925790\", \"88825154\", \"97626871\", \"29657674\", \"26308857\", \"79273300\", \"77642132\", \"83205605\", \"9782123\", \"28428523\", \"95378753\", \"62759895\", \"45694489\", \"57315921\", \"20505415\", \"73348785\", \"77955785\", \"45840218\", \"79707421\", \"7321301\", \"43548417\", \"89431160\", \"29089701\", \"61154389\", \"71996586\", \"21418137\", \"76395409\", \"79544988\", \"76024785\"]\n",
    "results = set(map(int, results))\n",
    "len(results)"
   ]
  },
  {
   "cell_type": "code",
   "execution_count": 5,
   "metadata": {},
   "outputs": [
    {
     "data": {
      "text/plain": [
       "5"
      ]
     },
     "execution_count": 5,
     "metadata": {},
     "output_type": "execute_result"
    }
   ],
   "source": [
    "only_valid = full_data[full_data['id'].isin(results)]\n",
    "np.count_nonzero(only_valid['demographics_cheat'] != 'no')"
   ]
  },
  {
   "cell_type": "code",
   "execution_count": 6,
   "metadata": {},
   "outputs": [
    {
     "name": "stdout",
     "output_type": "stream",
     "text": [
      "41 39 34\n"
     ]
    }
   ],
   "source": [
    "data = only_valid[only_valid['demographics_cheat'] == 'no']\n",
    "print(len(full_data), len(only_valid), len(data))"
   ]
  },
  {
   "cell_type": "code",
   "execution_count": 7,
   "metadata": {},
   "outputs": [
    {
     "data": {
      "text/plain": [
       "count    34.000000\n",
       "mean     33.735294\n",
       "std       7.754994\n",
       "min      21.000000\n",
       "25%      28.000000\n",
       "50%      30.500000\n",
       "75%      40.750000\n",
       "max      52.000000\n",
       "Name: demographics_age, dtype: float64"
      ]
     },
     "execution_count": 7,
     "metadata": {},
     "output_type": "execute_result"
    }
   ],
   "source": [
    "data['demographics_age'].describe()"
   ]
  },
  {
   "cell_type": "code",
   "execution_count": 8,
   "metadata": {},
   "outputs": [
    {
     "data": {
      "text/plain": [
       "male      26\n",
       "female     8\n",
       "Name: demographics_gender, dtype: int64"
      ]
     },
     "execution_count": 8,
     "metadata": {},
     "output_type": "execute_result"
    }
   ],
   "source": [
    "data['demographics_gender'].value_counts()"
   ]
  },
  {
   "cell_type": "code",
   "execution_count": 9,
   "metadata": {},
   "outputs": [
    {
     "data": {
      "text/plain": [
       "no                       9\n",
       "none                     6\n",
       "-                        4\n",
       "No                       4\n",
       "No technical problems    1\n",
       "no technical problems    1\n",
       "None.                    1\n",
       "No problems.             1\n",
       "No problems              1\n",
       "\"No, not at all.\"        1\n",
       "None                     1\n",
       "I had no problems.       1\n",
       "No.                      1\n",
       "No Problems              1\n",
       "Name: demographics_problems, dtype: int64"
      ]
     },
     "execution_count": 9,
     "metadata": {},
     "output_type": "execute_result"
    }
   ],
   "source": [
    "data['demographics_problems'].value_counts()"
   ]
  },
  {
   "cell_type": "code",
   "execution_count": 10,
   "metadata": {},
   "outputs": [
    {
     "data": {
      "text/plain": [
       "-                                                                                                                                                                                                                 7\n",
       "no                                                                                                                                                                                                                6\n",
       "none                                                                                                                                                                                                              2\n",
       "No it was fine as is.                                                                                                                                                                                             1\n",
       "No                                                                                                                                                                                                                1\n",
       "Was fine                                                                                                                                                                                                          1\n",
       "The study was very straightforward and easy to follow                                                                                                                                                             1\n",
       "\"No suggestions, seems like a good study.\"                                                                                                                                                                        1\n",
       "It seemed good overall.                                                                                                                                                                                           1\n",
       "\"Not sure how to improve it, but looking at the second airline chart was very weird and disorienting for me. Maybe it would have been easier if the tick was the old data and the bar chart was the new data.\"    1\n",
       "No.                                                                                                                                                                                                               1\n",
       "Nothing comes to mind.                                                                                                                                                                                            1\n",
       "No suggestions                                                                                                                                                                                                    1\n",
       "Very well-designed study. Great!                                                                                                                                                                                  1\n",
       "No comments                                                                                                                                                                                                       1\n",
       "All good.                                                                                                                                                                                                         1\n",
       "none thank you                                                                                                                                                                                                    1\n",
       "\"none that I can think of,\"                                                                                                                                                                                       1\n",
       "Maybe improve on the scale to make estimations easier.                                                                                                                                                            1\n",
       "longer timer                                                                                                                                                                                                      1\n",
       "Name: demographics_improved, dtype: int64"
      ]
     },
     "execution_count": 10,
     "metadata": {},
     "output_type": "execute_result"
    }
   ],
   "source": [
    "data['demographics_improved'].value_counts()"
   ]
  },
  {
   "cell_type": "code",
   "execution_count": 11,
   "metadata": {},
   "outputs": [
    {
     "data": {
      "text/plain": [
       "familiar    0.352941\n",
       "some        0.323529\n",
       "expert      0.205882\n",
       "none        0.117647\n",
       "Name: demographics_familiar, dtype: float64"
      ]
     },
     "execution_count": 11,
     "metadata": {},
     "output_type": "execute_result"
    }
   ],
   "source": [
    "data['demographics_familiar'].value_counts(normalize=True)"
   ]
  },
  {
   "cell_type": "code",
   "execution_count": 12,
   "metadata": {},
   "outputs": [
    {
     "data": {
      "text/plain": [
       "count    31.000000\n",
       "mean      8.333062\n",
       "std       3.323316\n",
       "min       4.368717\n",
       "25%       6.092275\n",
       "50%       6.816817\n",
       "75%       9.883525\n",
       "max      17.800067\n",
       "dtype: float64"
      ]
     },
     "execution_count": 12,
     "metadata": {},
     "output_type": "execute_result"
    }
   ],
   "source": [
    "timing = data['timing_instructions_html'] + data['timing_approximate_first_html'] + data['timing_approximate_questions_first_html'] + data['timing_approximate_second_html'] + data['timing_approximate_questions_second_html'] + data['timing_precise_first_html'] + data['timing_precise_second_html'] + data['timing_precise_questions_html']\n",
    "(timing/1000/60).describe()"
   ]
  },
  {
   "cell_type": "code",
   "execution_count": 13,
   "metadata": {},
   "outputs": [
    {
     "data": {
      "text/html": [
       "<div>\n",
       "<table border=\"1\" class=\"dataframe\">\n",
       "  <thead>\n",
       "    <tr style=\"text-align: right;\">\n",
       "      <th></th>\n",
       "      <th>timing_instructions_html</th>\n",
       "      <th>timing_approximate_first_html</th>\n",
       "      <th>timing_approximate_questions_first_html</th>\n",
       "      <th>timing_approximate_second_html</th>\n",
       "      <th>timing_approximate_questions_second_html</th>\n",
       "      <th>timing_precise_first_html</th>\n",
       "      <th>timing_precise_second_html</th>\n",
       "      <th>timing_precise_questions_html</th>\n",
       "    </tr>\n",
       "  </thead>\n",
       "  <tbody>\n",
       "    <tr>\n",
       "      <th>count</th>\n",
       "      <td>33.000000</td>\n",
       "      <td>34.000000</td>\n",
       "      <td>34.000000</td>\n",
       "      <td>34.000000</td>\n",
       "      <td>33.000000</td>\n",
       "      <td>34.000000</td>\n",
       "      <td>34.000000</td>\n",
       "      <td>32.000000</td>\n",
       "    </tr>\n",
       "    <tr>\n",
       "      <th>mean</th>\n",
       "      <td>35.977576</td>\n",
       "      <td>62.098059</td>\n",
       "      <td>49.408353</td>\n",
       "      <td>31.371412</td>\n",
       "      <td>44.645515</td>\n",
       "      <td>40.797529</td>\n",
       "      <td>23.784794</td>\n",
       "      <td>196.413156</td>\n",
       "    </tr>\n",
       "    <tr>\n",
       "      <th>std</th>\n",
       "      <td>31.585150</td>\n",
       "      <td>143.361751</td>\n",
       "      <td>29.604775</td>\n",
       "      <td>20.319874</td>\n",
       "      <td>31.668511</td>\n",
       "      <td>31.156400</td>\n",
       "      <td>11.754472</td>\n",
       "      <td>126.871974</td>\n",
       "    </tr>\n",
       "    <tr>\n",
       "      <th>min</th>\n",
       "      <td>1.187000</td>\n",
       "      <td>11.674000</td>\n",
       "      <td>21.317000</td>\n",
       "      <td>13.205000</td>\n",
       "      <td>16.657000</td>\n",
       "      <td>12.020000</td>\n",
       "      <td>11.370000</td>\n",
       "      <td>75.360000</td>\n",
       "    </tr>\n",
       "    <tr>\n",
       "      <th>25%</th>\n",
       "      <td>14.361000</td>\n",
       "      <td>24.156500</td>\n",
       "      <td>29.252250</td>\n",
       "      <td>17.972250</td>\n",
       "      <td>27.663000</td>\n",
       "      <td>21.018750</td>\n",
       "      <td>14.203250</td>\n",
       "      <td>122.957500</td>\n",
       "    </tr>\n",
       "    <tr>\n",
       "      <th>50%</th>\n",
       "      <td>31.807000</td>\n",
       "      <td>34.777500</td>\n",
       "      <td>41.758000</td>\n",
       "      <td>23.894000</td>\n",
       "      <td>36.402000</td>\n",
       "      <td>34.412000</td>\n",
       "      <td>20.135500</td>\n",
       "      <td>167.427500</td>\n",
       "    </tr>\n",
       "    <tr>\n",
       "      <th>75%</th>\n",
       "      <td>45.626000</td>\n",
       "      <td>48.520250</td>\n",
       "      <td>57.727750</td>\n",
       "      <td>36.131250</td>\n",
       "      <td>48.037000</td>\n",
       "      <td>47.960250</td>\n",
       "      <td>30.668750</td>\n",
       "      <td>213.720750</td>\n",
       "    </tr>\n",
       "    <tr>\n",
       "      <th>max</th>\n",
       "      <td>172.982000</td>\n",
       "      <td>866.229000</td>\n",
       "      <td>169.321000</td>\n",
       "      <td>106.682000</td>\n",
       "      <td>184.615000</td>\n",
       "      <td>174.680000</td>\n",
       "      <td>62.106000</td>\n",
       "      <td>606.329000</td>\n",
       "    </tr>\n",
       "  </tbody>\n",
       "</table>\n",
       "</div>"
      ],
      "text/plain": [
       "       timing_instructions_html  timing_approximate_first_html  \\\n",
       "count                 33.000000                      34.000000   \n",
       "mean                  35.977576                      62.098059   \n",
       "std                   31.585150                     143.361751   \n",
       "min                    1.187000                      11.674000   \n",
       "25%                   14.361000                      24.156500   \n",
       "50%                   31.807000                      34.777500   \n",
       "75%                   45.626000                      48.520250   \n",
       "max                  172.982000                     866.229000   \n",
       "\n",
       "       timing_approximate_questions_first_html  \\\n",
       "count                                34.000000   \n",
       "mean                                 49.408353   \n",
       "std                                  29.604775   \n",
       "min                                  21.317000   \n",
       "25%                                  29.252250   \n",
       "50%                                  41.758000   \n",
       "75%                                  57.727750   \n",
       "max                                 169.321000   \n",
       "\n",
       "       timing_approximate_second_html  \\\n",
       "count                       34.000000   \n",
       "mean                        31.371412   \n",
       "std                         20.319874   \n",
       "min                         13.205000   \n",
       "25%                         17.972250   \n",
       "50%                         23.894000   \n",
       "75%                         36.131250   \n",
       "max                        106.682000   \n",
       "\n",
       "       timing_approximate_questions_second_html  timing_precise_first_html  \\\n",
       "count                                 33.000000                  34.000000   \n",
       "mean                                  44.645515                  40.797529   \n",
       "std                                   31.668511                  31.156400   \n",
       "min                                   16.657000                  12.020000   \n",
       "25%                                   27.663000                  21.018750   \n",
       "50%                                   36.402000                  34.412000   \n",
       "75%                                   48.037000                  47.960250   \n",
       "max                                  184.615000                 174.680000   \n",
       "\n",
       "       timing_precise_second_html  timing_precise_questions_html  \n",
       "count                   34.000000                      32.000000  \n",
       "mean                    23.784794                     196.413156  \n",
       "std                     11.754472                     126.871974  \n",
       "min                     11.370000                      75.360000  \n",
       "25%                     14.203250                     122.957500  \n",
       "50%                     20.135500                     167.427500  \n",
       "75%                     30.668750                     213.720750  \n",
       "max                     62.106000                     606.329000  "
      ]
     },
     "execution_count": 13,
     "metadata": {},
     "output_type": "execute_result"
    }
   ],
   "source": [
    "(data[['timing_instructions_html','timing_approximate_first_html','timing_approximate_questions_first_html','timing_approximate_second_html','timing_approximate_questions_second_html','timing_precise_first_html','timing_precise_second_html','timing_precise_questions_html']]/1000).describe()\n"
   ]
  },
  {
   "cell_type": "code",
   "execution_count": 14,
   "metadata": {},
   "outputs": [
    {
     "name": "stdout",
     "output_type": "stream",
     "text": [
      "approx\n",
      "               0\n",
      "count  65.000000\n",
      "mean    0.021821\n",
      "std     0.035152\n",
      "min     0.000000\n",
      "25%     0.000000\n",
      "50%     0.000000\n",
      "75%     0.035088\n",
      "max     0.160000\n",
      "0    0.021821\n",
      "dtype: float64\n",
      "0    0.035152\n",
      "dtype: float64\n",
      "precise\n",
      "               0\n",
      "count  67.000000\n",
      "mean    0.086727\n",
      "std     0.130493\n",
      "min     0.002543\n",
      "25%     0.007128\n",
      "50%     0.027397\n",
      "75%     0.103217\n",
      "max     0.559687\n",
      "0    0.086727\n",
      "dtype: float64\n",
      "0    0.130493\n",
      "dtype: float64\n"
     ]
    }
   ],
   "source": [
    "e = {}\n",
    "clips = np.ones(2*len(data)) == 1\n",
    "\n",
    "for y in ['approx', 'precise']:\n",
    "    results = []\n",
    "    for x in ['airline', 'states']:\n",
    "        normalizer = data['{y}_{x}_howMany_{y}'.format(y=y, x=x)]\n",
    "        a = abs((normalizer - data['{y}_{x}_howMany_answer'.format(y=y, x=x)]) / normalizer)\n",
    "        results.append(a)\n",
    "    \n",
    "    d = np.array(pd.concat(results))\n",
    "    \n",
    "    c, low, upp = sigmaclip(d)\n",
    "    \n",
    "    clips = np.logical_and(np.logical_and(clips, d > low), d < upp)\n",
    "    e[y] = d\n",
    "    \n",
    "    print(y)\n",
    "    print(pd.DataFrame(c).describe())\n",
    "    print(pd.DataFrame(c).mean())\n",
    "    print(pd.DataFrame(c).std())"
   ]
  },
  {
   "cell_type": "code",
   "execution_count": 15,
   "metadata": {},
   "outputs": [
    {
     "data": {
      "text/plain": [
       "Ttest_indResult(statistic=-3.8215166668697944, pvalue=0.00020731177858748215)"
      ]
     },
     "execution_count": 15,
     "metadata": {},
     "output_type": "execute_result"
    }
   ],
   "source": [
    "from scipy import stats\n",
    "\n",
    "stats.ttest_ind(e['approx'][clips], e['precise'][clips])"
   ]
  },
  {
   "cell_type": "code",
   "execution_count": 16,
   "metadata": {},
   "outputs": [],
   "source": [
    "e = {}\n",
    "clips = np.ones(2*len(data)) == 1\n",
    "\n",
    "agg = pd.DataFrame()\n",
    "\n",
    "for y in ['approx', 'precise']:\n",
    "    results = []\n",
    "    for x in ['airline', 'states']:\n",
    "        for z in [0,1] if y == 'approx' else [0,1,2]:\n",
    "            # the true difference, shold be >0 if the focus airline has more flights\n",
    "            normalizer = data['{y}_{x}_howMany_{y}'.format(y=y, x=x)] - data['{y}_{x}_howManyCompare_{z}_{y}'.format(y=y, x=x, z=z)]\n",
    "            a = abs((normalizer - data['{y}_{x}_howManyCompare_{z}_answer'.format(y=y, x=x, z=z)]) / normalizer)\n",
    "            a[~np.isfinite(a)] = 0\n",
    "            # a = a[np.isfinite(a)]\n",
    "            results.append(a)\n",
    "            agg['{}_{}_{}'.format(x, y,z)] = a\n",
    "    d = pd.concat(results)\n",
    "    \n",
    "    c = d\n",
    "    #c, low, upp = sigmaclip(d)\n",
    "    \n",
    "    e[y] = d\n",
    "    \n",
    "    #print(y)\n",
    "    #print(pd.DataFrame(c).describe())\n",
    "    #print('mean', pd.DataFrame(c).mean())\n",
    "    #print('stdev', pd.DataFrame(c).std())\n",
    "\n",
    "agg['airline_approx'] = (agg['airline_approx_0'] + agg['airline_approx_1'])/2\n",
    "agg['states_approx'] = (agg['states_approx_0'] + agg['states_approx_1'])/2\n",
    "agg['airline_precise'] = (agg['airline_precise_0'] + agg['airline_precise_1'] + agg['airline_precise_2'])/3\n",
    "agg['states_precise'] = (agg['states_precise_0'] + agg['states_precise_1'] + agg['states_precise_2'])/3\n",
    "\n",
    "approx = pd.concat([agg['airline_approx'], agg['states_approx']])\n",
    "precise = pd.concat([agg['airline_precise'], agg['states_precise']])"
   ]
  },
  {
   "cell_type": "code",
   "execution_count": 17,
   "metadata": {},
   "outputs": [
    {
     "data": {
      "text/plain": [
       "Ttest_indResult(statistic=-2.161090950303485, pvalue=0.032465975636376779)"
      ]
     },
     "execution_count": 17,
     "metadata": {},
     "output_type": "execute_result"
    }
   ],
   "source": [
    "stats.ttest_ind(approx, precise)"
   ]
  },
  {
   "cell_type": "code",
   "execution_count": 22,
   "metadata": {},
   "outputs": [
    {
     "data": {
      "text/plain": [
       "count    32.000000\n",
       "mean      7.585847\n",
       "std       3.270244\n",
       "min       4.013650\n",
       "25%       5.483900\n",
       "50%       6.224625\n",
       "75%       8.811400\n",
       "max      17.560717\n",
       "dtype: float64"
      ]
     },
     "execution_count": 22,
     "metadata": {},
     "output_type": "execute_result"
    }
   ],
   "source": [
    "timing = (data['timing_approximate_questions_second_html'] + data['timing_approximate_questions_first_html'] + data['timing_approximate_first_html'] + data['timing_approximate_second_html'] + data['timing_precise_first_html'] + data['timing_precise_second_html'] + data['timing_precise_questions_html'])/1000/60\n",
    "timing.describe()"
   ]
  },
  {
   "cell_type": "code",
   "execution_count": 203,
   "metadata": {},
   "outputs": [
    {
     "data": {
      "text/plain": [
       "<matplotlib.axes._subplots.AxesSubplot at 0x10e2c35c0>"
      ]
     },
     "execution_count": 203,
     "metadata": {},
     "output_type": "execute_result"
    },
    {
     "data": {
      "image/png": "[encoded data removed]",
      "text/plain": [
       "<matplotlib.figure.Figure at 0x10e2ced68>"
      ]
     },
     "metadata": {
      "image/png": {
       "height": 375,
       "width": 521
      }
     },
     "output_type": "display_data"
    }
   ],
   "source": [
    "agg = pd.DataFrame()\n",
    "for y in ['approx', 'precise']:\n",
    "    for x in ['airline', 'states']:\n",
    "        for z in [0,1] if y == 'approx' else [0,1,2]:\n",
    "            field = '{y}_{x}_howManyCompare_{z}_confidence'.format(x=x, y=y, z=z)\n",
    "            to_add = pd.DataFrame()\n",
    "            to_add['confidence'] = data[field].replace({\"unknown\": 0, \"strong_disagree\": 1, \"disagree\": 2, \"weak_disagree\": 3, \"neutral\": 4, \"weak_agree\": 5, \"agree\": 6, \"strong_agree\": 7})\n",
    "            to_add['condition'] = y\n",
    "            to_add['which'] = x\n",
    "            to_add['seq'] = z\n",
    "            agg = pd.concat([agg, to_add])\n",
    "agg = agg[agg['confidence'] > 0]\n",
    "agg = agg.groupby(['condition'])\n",
    "\n",
    "udf = pd.DataFrame()\n",
    "df = pd.DataFrame()\n",
    "for name, group in agg:\n",
    "    gb = group.groupby(['confidence']).size()\n",
    "    gb = gb.div(gb.sum())\n",
    "    df[name] = gb\n",
    "    \n",
    "df.plot(kind='bar')"
   ]
  },
  {
   "cell_type": "code",
   "execution_count": 199,
   "metadata": {},
   "outputs": [
    {
     "data": {
      "text/plain": [
       "confidence\n",
       "1    21\n",
       "2     9\n",
       "3    11\n",
       "4    11\n",
       "5    40\n",
       "6    32\n",
       "7    12\n",
       "Name: approx, dtype: int64"
      ]
     },
     "execution_count": 199,
     "metadata": {},
     "output_type": "execute_result"
    }
   ],
   "source": [
    "udf['approx']"
   ]
  },
  {
   "cell_type": "code",
   "execution_count": null,
   "metadata": {},
   "outputs": [],
   "source": [
    "stats.mannwhitneyu(udf['precise'], udf['approx'])"
   ]
  }
 ],
 "metadata": {
  "kernelspec": {
   "display_name": "Python 3",
   "language": "python",
   "name": "python3"
  },
  "language_info": {
   "codemirror_mode": {
    "name": "ipython",
    "version": 3
   },
   "file_extension": ".py",
   "mimetype": "text/x-python",
   "name": "python",
   "nbconvert_exporter": "python",
   "pygments_lexer": "ipython3",
   "version": "3.5.2"
  }
 },
 "nbformat": 4,
 "nbformat_minor": 1
}
