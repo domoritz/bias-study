{
 "cells": [
  {
   "cell_type": "code",
   "execution_count": 213,
   "metadata": {},
   "outputs": [],
   "source": [
    "import pandas as pd\n",
    "import numpy as np\n",
    "import matplotlib.pyplot as plt\n",
    "import matplotlib\n",
    "import seaborn as sns\n",
    "from scipy.stats import sigmaclip\n",
    "from scipy import stats\n",
    "\n",
    "%matplotlib inline\n",
    "%config InlineBackend.figure_format = 'retina'"
   ]
  },
  {
   "cell_type": "code",
   "execution_count": 140,
   "metadata": {},
   "outputs": [
    {
     "data": {
      "text/plain": [
       "['batch',\n",
       " 'id',\n",
       " 'userAgent',\n",
       " 'OS',\n",
       " 'Browser',\n",
       " 'isMobile',\n",
       " 'studyCondition',\n",
       " 'firstCondition',\n",
       " 'seqAirline',\n",
       " 'errorStates',\n",
       " 'seqStates',\n",
       " 'focusState',\n",
       " 'focusAirline',\n",
       " 'secondCondition',\n",
       " 'errorAirline',\n",
       " 'approx_airline_howManyCompare_0_answer',\n",
       " 'approx_airline_howManyCompare_0_data',\n",
       " 'approx_airline_howManyCompare_0_approx',\n",
       " 'approx_airline_howManyCompare_0_confidence',\n",
       " 'approx_airline_howMany_answer',\n",
       " 'approx_airline_howMany_approx',\n",
       " 'approx_airline_howMany_confidence',\n",
       " 'approx_airline_howManyCompare_1_answer',\n",
       " 'approx_airline_howManyCompare_1_data',\n",
       " 'approx_airline_howManyCompare_1_approx',\n",
       " 'approx_airline_howManyCompare_1_confidence',\n",
       " 'approx_states_howManyCompare_0_answer',\n",
       " 'approx_states_howManyCompare_0_data',\n",
       " 'approx_states_howManyCompare_0_approx',\n",
       " 'approx_states_howManyCompare_0_confidence',\n",
       " 'approx_states_howMany_answer',\n",
       " 'approx_states_howMany_approx',\n",
       " 'approx_states_howMany_confidence',\n",
       " 'approx_states_howManyCompare_1_answer',\n",
       " 'approx_states_howManyCompare_1_data',\n",
       " 'approx_states_howManyCompare_1_approx',\n",
       " 'approx_states_howManyCompare_1_confidence',\n",
       " 'precise_airline_didYouNotice_answer',\n",
       " 'precise_airline_didYouNotice_true',\n",
       " 'precise_airline_didYouNotice_confidence',\n",
       " 'precise_airline_howManyCompare_0_answer',\n",
       " 'precise_airline_howManyCompare_0_data',\n",
       " 'precise_airline_howManyCompare_0_approx',\n",
       " 'precise_airline_howManyCompare_0_precise',\n",
       " 'precise_airline_howManyCompare_0_confidence',\n",
       " 'precise_airline_howMany_answer',\n",
       " 'precise_airline_howMany_approx',\n",
       " 'precise_airline_howMany_precise',\n",
       " 'precise_airline_howMany_confidence',\n",
       " 'precise_airline_SelectAll_confidence',\n",
       " 'precise_airline_SelectAll_answer',\n",
       " 'precise_airline_SelectAll_approx',\n",
       " 'precise_airline_SelectAll_precise',\n",
       " 'precise_airline_SelectAll_jaccard_answer_precise',\n",
       " 'precise_airline_SelectAll_jaccard_approx_precise',\n",
       " 'precise_airline_SelectAll_jaccard_approx_answer',\n",
       " 'precise_airline_howManyCompare_1_answer',\n",
       " 'precise_airline_howManyCompare_1_data',\n",
       " 'precise_airline_howManyCompare_1_approx',\n",
       " 'precise_airline_howManyCompare_1_precise',\n",
       " 'precise_airline_howManyCompare_1_confidence',\n",
       " 'precise_airline_howManyCompare_2_answer',\n",
       " 'precise_airline_howManyCompare_2_data',\n",
       " 'precise_airline_howManyCompare_2_approx',\n",
       " 'precise_airline_howManyCompare_2_precise',\n",
       " 'precise_airline_howManyCompare_2_confidence',\n",
       " 'precise_states_didYouNotice_answer',\n",
       " 'precise_states_didYouNotice_true',\n",
       " 'precise_states_didYouNotice_confidence',\n",
       " 'precise_states_howMany_answer',\n",
       " 'precise_states_howMany_approx',\n",
       " 'precise_states_howMany_precise',\n",
       " 'precise_states_howMany_confidence',\n",
       " 'precise_states_howManyCompare_0_answer',\n",
       " 'precise_states_howManyCompare_0_data',\n",
       " 'precise_states_howManyCompare_0_approx',\n",
       " 'precise_states_howManyCompare_0_precise',\n",
       " 'precise_states_howManyCompare_0_confidence',\n",
       " 'precise_states_howManyCompare_1_answer',\n",
       " 'precise_states_howManyCompare_1_data',\n",
       " 'precise_states_howManyCompare_1_approx',\n",
       " 'precise_states_howManyCompare_1_precise',\n",
       " 'precise_states_howManyCompare_1_confidence',\n",
       " 'precise_states_howManyCompare_2_answer',\n",
       " 'precise_states_howManyCompare_2_data',\n",
       " 'precise_states_howManyCompare_2_approx',\n",
       " 'precise_states_howManyCompare_2_precise',\n",
       " 'precise_states_howManyCompare_2_confidence',\n",
       " 'precise_states_SelectAll_confidence',\n",
       " 'precise_states_SelectAll_answer',\n",
       " 'precise_states_SelectAll_approx',\n",
       " 'precise_states_SelectAll_precise',\n",
       " 'precise_states_SelectAll_jaccard_answer_precise',\n",
       " 'precise_states_SelectAll_jaccard_approx_precise',\n",
       " 'precise_states_SelectAll_jaccard_approx_answer',\n",
       " 'timing_approximate_questions_first_html',\n",
       " 'timing_approximate_second_html',\n",
       " 'timing_precise_questions_html',\n",
       " 'timing_approximate_questions_second_html',\n",
       " 'timing_precise_instructions_html',\n",
       " 'timing_demographics_html',\n",
       " 'timing_precise_first_html',\n",
       " 'timing_approximate_first_html',\n",
       " 'timing_instructions_html',\n",
       " 'timing_index_html',\n",
       " 'timing_precise_second_html',\n",
       " 'timing_thanks_html',\n",
       " 'demographics_problems',\n",
       " 'demographics_troubles',\n",
       " 'demographics_improved',\n",
       " 'demographics_gender',\n",
       " 'demographics_age',\n",
       " 'demographics_familiar',\n",
       " 'demographics_cheat']"
      ]
     },
     "execution_count": 140,
     "metadata": {},
     "output_type": "execute_result"
    }
   ],
   "source": [
    "full_data = pd.read_csv('cleaned_data.csv')\n",
    "list(full_data.columns)"
   ]
  },
  {
   "cell_type": "code",
   "execution_count": 111,
   "metadata": {},
   "outputs": [],
   "source": [
    "results = [\"55686356\", \"49437914\", \"66972706\", \"80993444\", \"42878404\", \"23634915\", \"18074862\", \"84835951\", \"58926040\", \"55656520\", \"87912012\", \"30619584\", \"51665387\", \"25917069\", \"50263296\", \"60755967\", \"2893057\", \"28653725\", \"76648162\", \"21045111\", \"72925790\", \"88825154\", \"97626871\", \"29657674\", \"26308857\", \"79273300\", \"77642132\", \"83205605\", \"9782123\", \"28428523\", \"95378753\", \"62759895\", \"45694489\", \"57315921\", \"20505415\", \"73348785\", \"77955785\", \"45840218\", \"79707421\", \"7321301\", \"43548417\", \"89431160\", \"29089701\", \"61154389\", \"71996586\", \"21418137\", \"76395409\", \"79544988\", \"76024785\"]\n",
    "results = set(map(int, results))"
   ]
  },
  {
   "cell_type": "code",
   "execution_count": 115,
   "metadata": {},
   "outputs": [
    {
     "data": {
      "text/plain": [
       "5"
      ]
     },
     "execution_count": 115,
     "metadata": {},
     "output_type": "execute_result"
    }
   ],
   "source": [
    "only_valid = full_data[full_data['id'].isin(results)]\n",
    "np.count_nonzero(only_valid['demographics_cheat'] != 'no')"
   ]
  },
  {
   "cell_type": "code",
   "execution_count": 116,
   "metadata": {},
   "outputs": [
    {
     "name": "stdout",
     "output_type": "stream",
     "text": [
      "41 39 34\n"
     ]
    }
   ],
   "source": [
    "data = only_valid[only_valid['demographics_cheat'] == 'no']\n",
    "print(len(full_data), len(only_valid), len(data))"
   ]
  },
  {
   "cell_type": "code",
   "execution_count": 117,
   "metadata": {},
   "outputs": [
    {
     "data": {
      "text/plain": [
       "count    34.000000\n",
       "mean     33.735294\n",
       "std       7.754994\n",
       "min      21.000000\n",
       "25%      28.000000\n",
       "50%      30.500000\n",
       "75%      40.750000\n",
       "max      52.000000\n",
       "Name: demographics_age, dtype: float64"
      ]
     },
     "execution_count": 117,
     "metadata": {},
     "output_type": "execute_result"
    }
   ],
   "source": [
    "data['demographics_age'].describe()"
   ]
  },
  {
   "cell_type": "code",
   "execution_count": 124,
   "metadata": {},
   "outputs": [
    {
     "data": {
      "text/plain": [
       "male      26\n",
       "female     8\n",
       "Name: demographics_gender, dtype: int64"
      ]
     },
     "execution_count": 124,
     "metadata": {},
     "output_type": "execute_result"
    }
   ],
   "source": [
    "data['demographics_gender'].value_counts()"
   ]
  },
  {
   "cell_type": "code",
   "execution_count": 125,
   "metadata": {},
   "outputs": [
    {
     "data": {
      "text/plain": [
       "no                       9\n",
       "none                     6\n",
       "-                        4\n",
       "No                       4\n",
       "No problems              1\n",
       "No problems.             1\n",
       "No Problems              1\n",
       "\"No, not at all.\"        1\n",
       "No.                      1\n",
       "I had no problems.       1\n",
       "None                     1\n",
       "no technical problems    1\n",
       "No technical problems    1\n",
       "None.                    1\n",
       "Name: demographics_problems, dtype: int64"
      ]
     },
     "execution_count": 125,
     "metadata": {},
     "output_type": "execute_result"
    }
   ],
   "source": [
    "data['demographics_problems'].value_counts()"
   ]
  },
  {
   "cell_type": "code",
   "execution_count": 127,
   "metadata": {},
   "outputs": [
    {
     "data": {
      "text/plain": [
       "-                                                                                                                                                                                                                 7\n",
       "no                                                                                                                                                                                                                6\n",
       "none                                                                                                                                                                                                              2\n",
       "No suggestions                                                                                                                                                                                                    1\n",
       "\"No suggestions, seems like a good study.\"                                                                                                                                                                        1\n",
       "longer timer                                                                                                                                                                                                      1\n",
       "Nothing comes to mind.                                                                                                                                                                                            1\n",
       "All good.                                                                                                                                                                                                         1\n",
       "\"none that I can think of,\"                                                                                                                                                                                       1\n",
       "\"Not sure how to improve it, but looking at the second airline chart was very weird and disorienting for me. Maybe it would have been easier if the tick was the old data and the bar chart was the new data.\"    1\n",
       "The study was very straightforward and easy to follow                                                                                                                                                             1\n",
       "Maybe improve on the scale to make estimations easier.                                                                                                                                                            1\n",
       "No it was fine as is.                                                                                                                                                                                             1\n",
       "It seemed good overall.                                                                                                                                                                                           1\n",
       "No                                                                                                                                                                                                                1\n",
       "none thank you                                                                                                                                                                                                    1\n",
       "No.                                                                                                                                                                                                               1\n",
       "Was fine                                                                                                                                                                                                          1\n",
       "No comments                                                                                                                                                                                                       1\n",
       "Very well-designed study. Great!                                                                                                                                                                                  1\n",
       "Name: demographics_improved, dtype: int64"
      ]
     },
     "execution_count": 127,
     "metadata": {},
     "output_type": "execute_result"
    }
   ],
   "source": [
    "data['demographics_improved'].value_counts()"
   ]
  },
  {
   "cell_type": "code",
   "execution_count": 130,
   "metadata": {},
   "outputs": [
    {
     "data": {
      "text/plain": [
       "familiar    0.352941\n",
       "some        0.323529\n",
       "expert      0.205882\n",
       "none        0.117647\n",
       "Name: demographics_familiar, dtype: float64"
      ]
     },
     "execution_count": 130,
     "metadata": {},
     "output_type": "execute_result"
    }
   ],
   "source": [
    "data['demographics_familiar'].value_counts(normalize=True)"
   ]
  },
  {
   "cell_type": "code",
   "execution_count": 150,
   "metadata": {},
   "outputs": [
    {
     "data": {
      "text/plain": [
       "count    31.000000\n",
       "mean      8.333062\n",
       "std       3.323316\n",
       "min       4.368717\n",
       "25%       6.092275\n",
       "50%       6.816817\n",
       "75%       9.883525\n",
       "max      17.800067\n",
       "dtype: float64"
      ]
     },
     "execution_count": 150,
     "metadata": {},
     "output_type": "execute_result"
    }
   ],
   "source": [
    "timing = data['timing_instructions_html'] + data['timing_approximate_first_html'] + data['timing_approximate_questions_first_html'] + data['timing_approximate_second_html'] + data['timing_approximate_questions_second_html'] + data['timing_precise_first_html'] + data['timing_precise_second_html'] + data['timing_precise_questions_html']\n",
    "(timing/1000/60).describe()"
   ]
  },
  {
   "cell_type": "code",
   "execution_count": 155,
   "metadata": {},
   "outputs": [
    {
     "data": {
      "text/html": [
       "<div>\n",
       "<table border=\"1\" class=\"dataframe\">\n",
       "  <thead>\n",
       "    <tr style=\"text-align: right;\">\n",
       "      <th></th>\n",
       "      <th>timing_instructions_html</th>\n",
       "      <th>timing_approximate_first_html</th>\n",
       "      <th>timing_approximate_questions_first_html</th>\n",
       "      <th>timing_approximate_second_html</th>\n",
       "      <th>timing_approximate_questions_second_html</th>\n",
       "      <th>timing_precise_first_html</th>\n",
       "      <th>timing_precise_second_html</th>\n",
       "      <th>timing_precise_questions_html</th>\n",
       "    </tr>\n",
       "  </thead>\n",
       "  <tbody>\n",
       "    <tr>\n",
       "      <th>count</th>\n",
       "      <td>33.000000</td>\n",
       "      <td>34.000000</td>\n",
       "      <td>34.000000</td>\n",
       "      <td>34.000000</td>\n",
       "      <td>33.000000</td>\n",
       "      <td>34.000000</td>\n",
       "      <td>34.000000</td>\n",
       "      <td>32.000000</td>\n",
       "    </tr>\n",
       "    <tr>\n",
       "      <th>mean</th>\n",
       "      <td>35.977576</td>\n",
       "      <td>62.098059</td>\n",
       "      <td>49.408353</td>\n",
       "      <td>31.371412</td>\n",
       "      <td>44.645515</td>\n",
       "      <td>40.797529</td>\n",
       "      <td>23.784794</td>\n",
       "      <td>196.413156</td>\n",
       "    </tr>\n",
       "    <tr>\n",
       "      <th>std</th>\n",
       "      <td>31.585150</td>\n",
       "      <td>143.361751</td>\n",
       "      <td>29.604775</td>\n",
       "      <td>20.319874</td>\n",
       "      <td>31.668511</td>\n",
       "      <td>31.156400</td>\n",
       "      <td>11.754472</td>\n",
       "      <td>126.871974</td>\n",
       "    </tr>\n",
       "    <tr>\n",
       "      <th>min</th>\n",
       "      <td>1.187000</td>\n",
       "      <td>11.674000</td>\n",
       "      <td>21.317000</td>\n",
       "      <td>13.205000</td>\n",
       "      <td>16.657000</td>\n",
       "      <td>12.020000</td>\n",
       "      <td>11.370000</td>\n",
       "      <td>75.360000</td>\n",
       "    </tr>\n",
       "    <tr>\n",
       "      <th>25%</th>\n",
       "      <td>14.361000</td>\n",
       "      <td>24.156500</td>\n",
       "      <td>29.252250</td>\n",
       "      <td>17.972250</td>\n",
       "      <td>27.663000</td>\n",
       "      <td>21.018750</td>\n",
       "      <td>14.203250</td>\n",
       "      <td>122.957500</td>\n",
       "    </tr>\n",
       "    <tr>\n",
       "      <th>50%</th>\n",
       "      <td>31.807000</td>\n",
       "      <td>34.777500</td>\n",
       "      <td>41.758000</td>\n",
       "      <td>23.894000</td>\n",
       "      <td>36.402000</td>\n",
       "      <td>34.412000</td>\n",
       "      <td>20.135500</td>\n",
       "      <td>167.427500</td>\n",
       "    </tr>\n",
       "    <tr>\n",
       "      <th>75%</th>\n",
       "      <td>45.626000</td>\n",
       "      <td>48.520250</td>\n",
       "      <td>57.727750</td>\n",
       "      <td>36.131250</td>\n",
       "      <td>48.037000</td>\n",
       "      <td>47.960250</td>\n",
       "      <td>30.668750</td>\n",
       "      <td>213.720750</td>\n",
       "    </tr>\n",
       "    <tr>\n",
       "      <th>max</th>\n",
       "      <td>172.982000</td>\n",
       "      <td>866.229000</td>\n",
       "      <td>169.321000</td>\n",
       "      <td>106.682000</td>\n",
       "      <td>184.615000</td>\n",
       "      <td>174.680000</td>\n",
       "      <td>62.106000</td>\n",
       "      <td>606.329000</td>\n",
       "    </tr>\n",
       "  </tbody>\n",
       "</table>\n",
       "</div>"
      ],
      "text/plain": [
       "       timing_instructions_html  timing_approximate_first_html  \\\n",
       "count                 33.000000                      34.000000   \n",
       "mean                  35.977576                      62.098059   \n",
       "std                   31.585150                     143.361751   \n",
       "min                    1.187000                      11.674000   \n",
       "25%                   14.361000                      24.156500   \n",
       "50%                   31.807000                      34.777500   \n",
       "75%                   45.626000                      48.520250   \n",
       "max                  172.982000                     866.229000   \n",
       "\n",
       "       timing_approximate_questions_first_html  \\\n",
       "count                                34.000000   \n",
       "mean                                 49.408353   \n",
       "std                                  29.604775   \n",
       "min                                  21.317000   \n",
       "25%                                  29.252250   \n",
       "50%                                  41.758000   \n",
       "75%                                  57.727750   \n",
       "max                                 169.321000   \n",
       "\n",
       "       timing_approximate_second_html  \\\n",
       "count                       34.000000   \n",
       "mean                        31.371412   \n",
       "std                         20.319874   \n",
       "min                         13.205000   \n",
       "25%                         17.972250   \n",
       "50%                         23.894000   \n",
       "75%                         36.131250   \n",
       "max                        106.682000   \n",
       "\n",
       "       timing_approximate_questions_second_html  timing_precise_first_html  \\\n",
       "count                                 33.000000                  34.000000   \n",
       "mean                                  44.645515                  40.797529   \n",
       "std                                   31.668511                  31.156400   \n",
       "min                                   16.657000                  12.020000   \n",
       "25%                                   27.663000                  21.018750   \n",
       "50%                                   36.402000                  34.412000   \n",
       "75%                                   48.037000                  47.960250   \n",
       "max                                  184.615000                 174.680000   \n",
       "\n",
       "       timing_precise_second_html  timing_precise_questions_html  \n",
       "count                   34.000000                      32.000000  \n",
       "mean                    23.784794                     196.413156  \n",
       "std                     11.754472                     126.871974  \n",
       "min                     11.370000                      75.360000  \n",
       "25%                     14.203250                     122.957500  \n",
       "50%                     20.135500                     167.427500  \n",
       "75%                     30.668750                     213.720750  \n",
       "max                     62.106000                     606.329000  "
      ]
     },
     "execution_count": 155,
     "metadata": {},
     "output_type": "execute_result"
    }
   ],
   "source": [
    "(data[['timing_instructions_html','timing_approximate_first_html','timing_approximate_questions_first_html','timing_approximate_second_html','timing_approximate_questions_second_html','timing_precise_first_html','timing_precise_second_html','timing_precise_questions_html']]/1000).describe()\n"
   ]
  },
  {
   "cell_type": "code",
   "execution_count": 250,
   "metadata": {},
   "outputs": [
    {
     "name": "stdout",
     "output_type": "stream",
     "text": [
      "approx\n",
      "0    2.182107\n",
      "dtype: float64\n",
      "0    3.515178\n",
      "dtype: float64\n",
      "precise\n",
      "0    8.672687\n",
      "dtype: float64\n",
      "0    13.049281\n",
      "dtype: float64\n"
     ]
    }
   ],
   "source": [
    "e = {}\n",
    "\n",
    "for y in ['approx', 'precise']:\n",
    "    results = []\n",
    "    for x in ['airline', 'states']:\n",
    "        normalizer = data['{y}_{x}_howMany_{y}'.format(y=y, x=x)]\n",
    "        a = abs((normalizer - data['{y}_{x}_howMany_answer'.format(y=y, x=x)]) / normalizer)\n",
    "        results.append(a)\n",
    "    \n",
    "    d = pd.concat(results)\n",
    "    \n",
    "    c, low, upp = sigmaclip(d)\n",
    "    \n",
    "    e[y] = c\n",
    "    \n",
    "    print(y)\n",
    "    #print(pd.DataFrame(c).describe())\n",
    "    print(pd.DataFrame(c).mean()*100)\n",
    "    print(pd.DataFrame(c).std()*100)"
   ]
  },
  {
   "cell_type": "code",
   "execution_count": 233,
   "metadata": {},
   "outputs": [
    {
     "data": {
      "text/plain": [
       "Ttest_indResult(statistic=-3.8755891800312434, pvalue=0.00016790730620475037)"
      ]
     },
     "execution_count": 233,
     "metadata": {},
     "output_type": "execute_result"
    }
   ],
   "source": [
    "from scipy import stats\n",
    "\n",
    "stats.ttest_ind(e['approx'], e['precise'])"
   ]
  },
  {
   "cell_type": "code",
   "execution_count": 260,
   "metadata": {},
   "outputs": [
    {
     "name": "stdout",
     "output_type": "stream",
     "text": [
      "approx\n",
      "                0\n",
      "count  122.000000\n",
      "mean     0.419941\n",
      "std      0.528479\n",
      "min      0.000000\n",
      "25%      0.014544\n",
      "50%      0.250000\n",
      "75%      0.592857\n",
      "max      2.250000\n",
      "mean 0    41.994079\n",
      "dtype: float64\n",
      "stdev 0    52.847905\n",
      "dtype: float64\n",
      "precise\n",
      "                0\n",
      "count  187.000000\n",
      "mean     0.468790\n",
      "std      0.453652\n",
      "min      0.001427\n",
      "25%      0.069767\n",
      "50%      0.354631\n",
      "75%      0.748178\n",
      "max      2.000000\n",
      "mean 0    46.879039\n",
      "dtype: float64\n",
      "stdev 0    45.36518\n",
      "dtype: float64\n"
     ]
    }
   ],
   "source": [
    "e = {}\n",
    "\n",
    "for y in ['approx', 'precise']:\n",
    "    results = []\n",
    "    for x in ['airline', 'states']:\n",
    "        for z in [0,1] if y == 'approx' else [0,1,2]:\n",
    "            # the trsu difference, shold be >0 if the focus airline has more flights\n",
    "            normalizer = data['{y}_{x}_howMany_{y}'.format(y=y, x=x)] - data['{y}_{x}_howManyCompare_{z}_{y}'.format(y=y, x=x, z=z)]\n",
    "            a = abs((normalizer - data['{y}_{x}_howManyCompare_{z}_answer'.format(y=y, x=x, z=z)]) / normalizer)\n",
    "            results.append(a[np.isfinite(a)])\n",
    "    d = pd.concat(results)\n",
    "    \n",
    "    c, low, upp = sigmaclip(d)\n",
    "    \n",
    "    e[y] = c\n",
    "    \n",
    "    print(y)\n",
    "    print(pd.DataFrame(c).describe())\n",
    "    print('mean', pd.DataFrame(c).mean()*100)\n",
    "    print('stdev', pd.DataFrame(c).std()*100)"
   ]
  },
  {
   "cell_type": "code",
   "execution_count": 261,
   "metadata": {},
   "outputs": [
    {
     "data": {
      "text/plain": [
       "Ttest_indResult(statistic=-0.86629473977204563, pvalue=0.38700507169377552)"
      ]
     },
     "execution_count": 261,
     "metadata": {},
     "output_type": "execute_result"
    }
   ],
   "source": [
    "stats.ttest_ind(e['approx'], e['precise'])"
   ]
  },
  {
   "cell_type": "code",
   "execution_count": null,
   "metadata": {},
   "outputs": [],
   "source": []
  }
 ],
 "metadata": {
  "kernelspec": {
   "display_name": "Python 3",
   "language": "python",
   "name": "python3"
  },
  "language_info": {
   "codemirror_mode": {
    "name": "ipython",
    "version": 3
   },
   "file_extension": ".py",
   "mimetype": "text/x-python",
   "name": "python",
   "nbconvert_exporter": "python",
   "pygments_lexer": "ipython3",
   "version": "3.5.2"
  }
 },
 "nbformat": 4,
 "nbformat_minor": 1
}
